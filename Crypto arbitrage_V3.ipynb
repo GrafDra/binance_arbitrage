{
 "cells": [
  {
   "cell_type": "code",
   "execution_count": 29,
   "id": "3385c1de",
   "metadata": {},
   "outputs": [],
   "source": [
    "import pandas as pd\n",
    "import time\n",
    "from datetime import datetime\n",
    "import math\n",
    "import ccxt\n",
    "import json"
   ]
  },
  {
   "cell_type": "code",
   "execution_count": 30,
   "id": "c12943e0",
   "metadata": {},
   "outputs": [],
   "source": [
    "with open('binance.json') as f:\n",
    "    binance_api = json.load(f)"
   ]
  },
  {
   "cell_type": "code",
   "execution_count": 31,
   "id": "e2266c83",
   "metadata": {},
   "outputs": [],
   "source": [
    "exchange_id = 'binance'\n",
    "exchange_class = getattr(ccxt, exchange_id)\n",
    "\n",
    "exchange = exchange_class({\n",
    "    \"apiKey\": binance_api['apiKey'],\n",
    "    \"secret\": binance_api['secret'],\n",
    "})"
   ]
  },
  {
   "cell_type": "code",
   "execution_count": 32,
   "id": "5f65840b",
   "metadata": {
    "scrolled": true
   },
   "outputs": [],
   "source": [
    "markets = exchange.fetchMarkets()\n",
    "market_symbols = [market['symbol'] for market in markets if market['type']=='spot']"
   ]
  },
  {
   "cell_type": "code",
   "execution_count": 33,
   "id": "fd51a73c",
   "metadata": {},
   "outputs": [],
   "source": [
    "def create_chain(orders_type, start, middle, finish,  start_price, middle_price, finish_price, res):   \n",
    "    return {\n",
    "        'type': orders_type,\n",
    "        'start': start['symbol'], # USDT                 \n",
    "        'middle': middle['symbol'],      # BTC                 \n",
    "        'finish': finish['symbol'],      # ETH \n",
    "        'start_price': start_price,     \n",
    "        'middle_price': middle_price,       \n",
    "        'finish_price': finish_price,\n",
    "        'Result' : res\n",
    "    }\n",
    "    \n",
    "\n",
    "def get_chains(market_symbols, quotes, base_currency='USDT'):\n",
    "    chains = []\n",
    "    AMMOUNT=100.0\n",
    "\n",
    "    for symbol in market_symbols:\n",
    "        try:\n",
    "            token1 = symbol.split('/')[0] \n",
    "            token2 = symbol.split('/')[1]\n",
    "            #ищем промежуточное звено треугольника и проверяем результат в 2 стороны\n",
    "            if (token1!=base_currency and token2!=base_currency):\n",
    "                start = quotes[f'{token1}/{base_currency}']\n",
    "                middle = quotes[f'{token1}/{token2}']\n",
    "                finish = quotes[f'{token2}/{base_currency}']\n",
    "                if  start['ask']!=0 and start['bid']!=0 and middle['ask']!=0 and middle['bid']!=0 and finish['ask']!=0 and finish['bid']!=0:\n",
    "                    #USDT-ETH-BTC\n",
    "                    chains.append(\n",
    "                                create_chain(\n",
    "                                    'BUY_SELL_SELL',\n",
    "                                    start,         #ETH/USDT\n",
    "                                    middle,        #ETH/BTC\n",
    "                                    finish,        #BTC/USDT\n",
    "                                    start['ask'],  #ETH/USDT ASK\n",
    "                                    middle['bid'], #ETH/BTC BID\n",
    "                                    finish['bid'], #BTC/USDT BID\n",
    "                                    float(AMMOUNT/start['ask']*middle['bid']*finish['bid'] - AMMOUNT)\n",
    "                                )\n",
    "                    )\n",
    "                    #USDT-BTC-ETH\n",
    "                    chains.append(\n",
    "                                create_chain(\n",
    "                                    'BUY_BUY_SELL',\n",
    "                                    finish,       #BTC/USDT\n",
    "                                    middle,       #ETH/BTC\n",
    "                                    start,        #ETH/USDT\n",
    "                                    finish['ask'], #BTC/USDT ASK\n",
    "                                    middle['ask'], ##ETH/BTC ASK\n",
    "                                    start['bid'],  #ETH/USDT BID\n",
    "                                    float(AMMOUNT/finish['ask']/middle['ask']*start['bid'] - AMMOUNT)\n",
    "                                )\n",
    "                   )\n",
    "\n",
    "        except KeyError:\n",
    "            pass\n",
    "    return pd.DataFrame(chains)\n"
   ]
  },
  {
   "cell_type": "code",
   "execution_count": 48,
   "id": "e3b06a3c",
   "metadata": {},
   "outputs": [],
   "source": [
    "def place_buy_order(symbol, amount, price, delta):\n",
    "    order_price = price*(1+delta) \n",
    "    order = exchange.create_limit_buy_order(symbol, amount, order_price)\n",
    "    print(order)\n",
    "    return order\n",
    "\n",
    "def place_sell_order(symbol, amount, price, delta):\n",
    "    order_price = price*(1-delta) \n",
    "    order = exchange.create_limit_sell_order(symbol, amount, order_price)\n",
    "    print(order)\n",
    "    return order \n",
    "\n",
    "def place_trade_orders(chain, initial_amount):\n",
    "    final_amount = 0.0\n",
    "    delta = 0.001 # увеличение/уменьшение цены лимитного ордера для возможного проскальзывания\n",
    "    orders_type = chain['type']\n",
    "    pair_1 = chain['start']\n",
    "    pair_2 = chain['middle']\n",
    "    pair_3 = chain['finish']\n",
    "    price_1 = chain['start_price']\n",
    "    price_2 = chain['middle_price']\n",
    "    price_3 = chain['finish_price']\n",
    "                \n",
    "    if orders_type == 'BUY_BUY_SELL':\n",
    "        quantity_1 = initial_amount/price_1\n",
    "        order_1 = place_buy_order(pair_1, quantity_1, price_1, delta)\n",
    "        \n",
    "        quantity_2 = quantity_1/price_2\n",
    "        order_2 = place_buy_order(pair_2, quantity_2, price_2, delta)\n",
    "        \n",
    "        quantity_3 = quantity_2\n",
    "        order_3 = place_sell_order(pair_3, quantity_3, price_3, delta)\n",
    "        \n",
    "    elif orders_type == 'BUY_SELL_SELL':\n",
    "        quantity_1 = initial_amount/price_1\n",
    "        order_1 = place_buy_order(pair_1, quantity_1, price_1, delta)\n",
    "        \n",
    "        quantity_2 = quantity_1\n",
    "        order_2 = place_sell_order(pair_2, quantity_2, price_2, delta)\n",
    "        \n",
    "        quantity_3 = quantity_2 * price_2\n",
    "        order_3 = place_sell_order(pair_3, quantity_3, price_3, delta)\n",
    "        #todo сделать проверку ордеров. По какой цене исполнились и исполнились ли вообще. \n",
    "        #Если все выполнено то считать результат\n",
    "    ##############\n",
    "    time.sleep(60) #ждем минуту чтобы исключить возможный флипинг котировки    \n",
    "    ##############\n",
    "    return final_amount\n",
    "\n",
    "def filter_profitable_chains(df):\n",
    "    MIN_PROFIT = 0.5\n",
    "    AMMOUNT = 25.0\n",
    "    profit = df.loc[df['Result']>MIN_PROFIT]\n",
    "    if not profit.empty:\n",
    "        print(f\"Time-{datetime.now().strftime('%H:%M:%S')}\")\n",
    "        print(profit)\n",
    "        place_trade_orders(profit.iloc[0], AMMOUNT)\n"
   ]
  },
  {
   "cell_type": "code",
   "execution_count": null,
   "id": "89b0964f",
   "metadata": {
    "scrolled": false
   },
   "outputs": [],
   "source": [
    "while(1):    \n",
    "    quotes = exchange.fetchBidsAsks()\n",
    "    chains = get_chains(market_symbols, quotes, 'USDT')\n",
    "    sorted_chains = chains.sort_values(by='Result', ascending=False)\n",
    "    filter_profitable_chains(sorted_chains)\n",
    "    time.sleep(1)"
   ]
  },
  {
   "cell_type": "code",
   "execution_count": null,
   "id": "b76deaae",
   "metadata": {},
   "outputs": [],
   "source": [
    "#throw_exactly_matched_exception(self.exceptions['exact'], error, feedback)\n",
    "#InvalidOrder: binance {\"code\":-1013,\"msg\":\"Filter failure: MIN_NOTIONAL\"}\n",
    "#price * quantity is too low to be a valid order for the symbol."
   ]
  },
  {
   "cell_type": "markdown",
   "id": "5e217d84",
   "metadata": {},
   "source": [
    "# Donation(BNB, ETH) --> 0xD1fd90B9c2585354923c33e90878c26cA83Fe0F9"
   ]
  },
  {
   "cell_type": "code",
   "execution_count": null,
   "id": "7f9019d7",
   "metadata": {},
   "outputs": [],
   "source": []
  }
 ],
 "metadata": {
  "kernelspec": {
   "display_name": "Python 3 (ipykernel)",
   "language": "python",
   "name": "python3"
  },
  "language_info": {
   "codemirror_mode": {
    "name": "ipython",
    "version": 3
   },
   "file_extension": ".py",
   "mimetype": "text/x-python",
   "name": "python",
   "nbconvert_exporter": "python",
   "pygments_lexer": "ipython3",
   "version": "3.8.13"
  }
 },
 "nbformat": 4,
 "nbformat_minor": 5
}
